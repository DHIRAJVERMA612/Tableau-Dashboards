{
 "cells": [
  {
   "cell_type": "markdown",
   "id": "d4f98edd",
   "metadata": {
    "papermill": {
     "duration": 0.005342,
     "end_time": "2021-09-11T17:58:45.085130",
     "exception": false,
     "start_time": "2021-09-11T17:58:45.079788",
     "status": "completed"
    },
    "tags": []
   },
   "source": [
    "# Titanic Visualization "
   ]
  },
  {
   "cell_type": "markdown",
   "id": "788aa40a",
   "metadata": {
    "papermill": {
     "duration": 0.004428,
     "end_time": "2021-09-11T17:58:45.093902",
     "exception": false,
     "start_time": "2021-09-11T17:58:45.089474",
     "status": "completed"
    },
    "tags": []
   },
   "source": [
    "Hello everyone..\n",
    "I have taken this titanic dataset from kaggle and visualized it on Tableau.\n",
    "I hope you like it.."
   ]
  },
  {
   "cell_type": "code",
   "execution_count": 1,
   "id": "c6f27e13",
   "metadata": {
    "execution": {
     "iopub.execute_input": "2021-09-11T17:58:45.116577Z",
     "iopub.status.busy": "2021-09-11T17:58:45.115839Z",
     "iopub.status.idle": "2021-09-11T17:58:45.124702Z",
     "shell.execute_reply": "2021-09-11T17:58:45.125223Z",
     "shell.execute_reply.started": "2021-09-11T17:57:53.486387Z"
    },
    "papermill": {
     "duration": 0.027752,
     "end_time": "2021-09-11T17:58:45.125624",
     "exception": false,
     "start_time": "2021-09-11T17:58:45.097872",
     "status": "completed"
    },
    "tags": []
   },
   "outputs": [
    {
     "data": {
      "text/html": [
       "\n",
       "        <iframe\n",
       "            width=\"600\"\n",
       "            height=\"600\"\n",
       "            src=\"https://public.tableau.com/app/profile/dhiraj2257/viz/Titanic_16313782322200/Dashboard3\"\n",
       "            frameborder=\"0\"\n",
       "            allowfullscreen\n",
       "        ></iframe>\n",
       "        "
      ],
      "text/plain": [
       "<IPython.lib.display.IFrame at 0x2247349e940>"
      ]
     },
     "execution_count": 1,
     "metadata": {},
     "output_type": "execute_result"
    }
   ],
   "source": [
    "from IPython.display import IFrame\n",
    "\n",
    "url = 'https://public.tableau.com/app/profile/dhiraj2257/viz/Titanic_16313782322200/Dashboard3'\n",
    "IFrame(url, width=600, height=600)"
   ]
  }
 ],
 "metadata": {
  "kernelspec": {
   "display_name": "Python 3",
   "language": "python",
   "name": "python3"
  },
  "language_info": {
   "codemirror_mode": {
    "name": "ipython",
    "version": 3
   },
   "file_extension": ".py",
   "mimetype": "text/x-python",
   "name": "python",
   "nbconvert_exporter": "python",
   "pygments_lexer": "ipython3",
   "version": "3.8.8"
  },
  "papermill": {
   "default_parameters": {},
   "duration": 13.098587,
   "end_time": "2021-09-11T17:58:47.852981",
   "environment_variables": {},
   "exception": null,
   "input_path": "__notebook__.ipynb",
   "output_path": "__notebook__.ipynb",
   "parameters": {},
   "start_time": "2021-09-11T17:58:34.754394",
   "version": "2.3.3"
  }
 },
 "nbformat": 4,
 "nbformat_minor": 5
}
