{
 "cells": [
  {
   "cell_type": "markdown",
   "id": "3fecd711",
   "metadata": {
    "papermill": {
     "duration": 0.00422,
     "end_time": "2021-09-06T09:06:05.851374",
     "exception": false,
     "start_time": "2021-09-06T09:06:05.847154",
     "status": "completed"
    },
    "tags": []
   },
   "source": [
    "# WORLD HAPPINESS REPORT (TABLEAU DASHBOARD) "
   ]
  },
  {
   "cell_type": "markdown",
   "id": "3beb35fc",
   "metadata": {
    "papermill": {
     "duration": 0.002926,
     "end_time": "2021-09-06T09:06:05.858123",
     "exception": false,
     "start_time": "2021-09-06T09:06:05.855197",
     "status": "completed"
    },
    "tags": []
   },
   "source": [
    "### As you can see the world happiness report shows us the ladder score of different countries by which we can determine the happiness score of different countries.I have created a dashboard in Tableau.you can see in the next shell.i hope you like it.....  "
   ]
  },
  {
   "cell_type": "code",
   "execution_count": 1,
   "id": "647eab48",
   "metadata": {
    "execution": {
     "iopub.execute_input": "2021-09-06T09:06:05.868849Z",
     "iopub.status.busy": "2021-09-06T09:06:05.867697Z",
     "iopub.status.idle": "2021-09-06T09:06:05.881343Z",
     "shell.execute_reply": "2021-09-06T09:06:05.882115Z",
     "shell.execute_reply.started": "2021-09-06T08:55:06.369833Z"
    },
    "papermill": {
     "duration": 0.02124,
     "end_time": "2021-09-06T09:06:05.882441",
     "exception": false,
     "start_time": "2021-09-06T09:06:05.861201",
     "status": "completed"
    },
    "tags": []
   },
   "outputs": [
    {
     "data": {
      "text/html": [
       "\n",
       "        <iframe\n",
       "            width=\"600\"\n",
       "            height=\"600\"\n",
       "            src=\"https://public.tableau.com/views/worldhappinessindex_16308657257110/Dashboard2?:language=en-US&:display_count=n&:origin=viz_share_link\"\n",
       "            frameborder=\"0\"\n",
       "            allowfullscreen\n",
       "        ></iframe>\n",
       "        "
      ],
      "text/plain": [
       "<IPython.lib.display.IFrame at 0x7f19a0d1aa50>"
      ]
     },
     "execution_count": 1,
     "metadata": {},
     "output_type": "execute_result"
    }
   ],
   "source": [
    "from IPython.display import IFrame\n",
    "\n",
    "url = 'https://public.tableau.com/views/worldhappinessindex_16308657257110/Dashboard2?:language=en-US&:display_count=n&:origin=viz_share_link'\n",
    "IFrame(url, width=600, height=600)"
   ]
  }
 ],
 "metadata": {
  "kernelspec": {
   "display_name": "Python 3",
   "language": "python",
   "name": "python3"
  },
  "language_info": {
   "codemirror_mode": {
    "name": "ipython",
    "version": 3
   },
   "file_extension": ".py",
   "mimetype": "text/x-python",
   "name": "python",
   "nbconvert_exporter": "python",
   "pygments_lexer": "ipython3",
   "version": "3.7.10"
  },
  "papermill": {
   "default_parameters": {},
   "duration": 8.640294,
   "end_time": "2021-09-06T09:06:06.494460",
   "environment_variables": {},
   "exception": null,
   "input_path": "__notebook__.ipynb",
   "output_path": "__notebook__.ipynb",
   "parameters": {},
   "start_time": "2021-09-06T09:05:57.854166",
   "version": "2.3.3"
  }
 },
 "nbformat": 4,
 "nbformat_minor": 5
}
